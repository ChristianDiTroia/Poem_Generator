{
 "cells": [
  {
   "cell_type": "code",
   "execution_count": 1,
   "metadata": {},
   "outputs": [],
   "source": [
    "from pdf_parser import *"
   ]
  },
  {
   "cell_type": "code",
   "execution_count": 2,
   "metadata": {},
   "outputs": [],
   "source": [
    "pdf_path = \"./the-great-gatsby.pdf\"\n",
    "gatsby_text = parse_pdf_text(pdf_path=pdf_path, start_page=3)"
   ]
  },
  {
   "cell_type": "code",
   "execution_count": 3,
   "metadata": {},
   "outputs": [],
   "source": [
    "gatsby_lines = parse_by_line(gatsby_text)\n",
    "gatsby_sentences = parse_by_sentence(gatsby_text)"
   ]
  },
  {
   "cell_type": "code",
   "execution_count": 4,
   "metadata": {},
   "outputs": [],
   "source": [
    "import re\n",
    "import random"
   ]
  },
  {
   "cell_type": "code",
   "execution_count": 5,
   "metadata": {},
   "outputs": [
    {
     "name": "stdout",
     "output_type": "stream",
     "text": [
      "Tom stopped beside the\n",
      "porch and looked up at the second floor where two win-\n",
      "dows bloomed with light among the vines\n",
      "I am still\n",
      "a little afraid of missing something if I forget that, as my fa-\n",
      "ther snobbishly suggested, and I snobbishly repeat a sense\n",
      "of the fundamental decencies is parcelled out unequally at\n",
      "birth\n",
      "There is always a halt there\n",
      "of at least a minute and it was because of this that I first met\n",
      "Tom Buchanan’s mistress\n",
      "He’s singing away——’ her voice sang\n",
      "‘——It’s romantic, isn’t it, Tom?’\n",
      "‘Very romantic,’ he said, and then miserably to me: ‘If\n",
      "it’s light enough after dinner I want to take you down to the\n",
      "stables.’\n",
      "The telephone rang inside, startlingly, and as Daisy shook\n",
      "her head decisively at Tom the subject of the stables, in fact\n",
      "all subjects, vanished into air\n",
      "I was within and without, si-\n",
      "multaneously enchanted and repelled by the inexhaustible\n",
      "variety of life\n",
      "Tomorrow!’ Then\n",
      "she added irrelevantly, ‘You ought to see the baby.’\n",
      "‘I’d like to.’\n",
      "‘She’s asleep\n",
      "‘I\n",
      "almost married a little kyke who’d been after me for years\n",
      "‘Anyhow he gives large parties,’ said Jordan, changing\n",
      "the subject with an urbane distaste for the concrete\n"
     ]
    }
   ],
   "source": [
    "newline_pattern = re.compile(r\"(?<!-)\\n\")\n",
    "hyphen_newline_pattern = re.compile(r\"\\n\")\n",
    "\n",
    "poem_lines = 8\n",
    "sentence_based_poem = \"\"\n",
    "for line in range(poem_lines):\n",
    "    sentence_based_poem += gatsby_sentences[random.randrange(0, len(gatsby_sentences))]\n",
    "    # sentence = re.sub(newline_pattern, \" \", sentence)\n",
    "    # sentence = re.sub(hyphen_newline_pattern, \"\", sentence)\n",
    "    # sentence_based_poem += sentence\n",
    "    if line < poem_lines - 1:\n",
    "        sentence_based_poem += \"\\n\"\n",
    "print(sentence_based_poem)"
   ]
  },
  {
   "cell_type": "code",
   "execution_count": 6,
   "metadata": {},
   "outputs": [
    {
     "name": "stdout",
     "output_type": "stream",
     "text": [
      "in West Egg where he asked someone the way to Gatsby’s\n",
      "‘I hate that word hulking,’ objected Tom crossly, ‘even in\n",
      "during which the boat went three times around the con-\n",
      "tinent. It might have lasted indefinitely except for the fact\n",
      "Daisy was not a Catholic and I was a little shocked at the\n",
      "A massive and lethargic woman, who had been urging\n",
      "lit again, pointlessly, and I was conscious of wanting to look\n",
      "repeat the past.’\n",
      "was walking ahead of me along Fifth Avenue in his alert,\n"
     ]
    }
   ],
   "source": [
    "poem_lines = 8\n",
    "line_based_poem = \"\"\n",
    "for line in range(poem_lines):\n",
    "    line_based_poem += gatsby_lines[random.randrange(0, len(gatsby_lines))]\n",
    "    if line < poem_lines - 1:\n",
    "        line_based_poem += \"\\n\"\n",
    "print(line_based_poem)"
   ]
  },
  {
   "cell_type": "code",
   "execution_count": null,
   "metadata": {},
   "outputs": [
    {
     "name": "stdout",
     "output_type": "stream",
     "text": [
      "['Chapter 1\\nIn my younger and more vulnerable years my father gave\\nme some advice that I’ve been turning over in my mind\\never since', '‘Whenever you feel like criticizing any one,’ he told me,\\n‘just remember that all the people in this world haven’t had\\nthe advantages that you’ve had.’\\nHe didn’t say any more but we’ve always been unusually\\ncommunicative in a reserved way, and I understood that he\\nmeant a great deal more than that', 'In consequence I’m in-\\nclined to reserve all judgments, a habit that has opened up\\nmany curious natures to me and also made me the victim\\nof not a few veteran bores', 'The abnormal mind is quick to\\ndetect and attach itself to this quality when it appears in a\\nnormal person, and so it came about that in college I was\\nunjustly accused of being a politician, because I was privy\\nto the secret griefs of wild, unknown men', 'Most of the con-\\nfidences were unsought—frequently I have feigned sleep,\\npreoccupation, or a hostile levity when I realized by some\\nunmistakable sign that an intimate revelation was quiver-\\ning on the horizon—for the intimate revelations of young\\nmen or at least the terms in which they express them are\\nusually plagiaristic and marred by obvious suppressions', 'Reserving judgments is a matter of infinite hope', 'I am still\\na little afraid of missing something if I forget that, as my fa-\\nther snobbishly suggested, and I snobbishly repeat a sense\\nof the fundamental decencies is parcelled out unequally at\\nbirth', 'And, after boasting this way of my tolerance, I come to\\nthe admission that it has a limit', 'Conduct may be founded\\non the hard rock or the wet marshes but after a certain point\\nI don’t care what it’s founded on', 'When I came back from\\nthe East last autumn I felt that I wanted the world to be in\\nuniform and at a sort of moral attention forever; I want-\\ned no more riotous excursions with privileged glimpses\\ninto the human heart']\n"
     ]
    }
   ],
   "source": [
    "print(gatsby_sentences[:10])"
   ]
  },
  {
   "cell_type": "markdown",
   "metadata": {},
   "source": [
    "# Notes / TODO\n",
    "\n",
    "- Should parsed sentences keep their newline chars?\n",
    "    - leaning towards YES because sentences get way too long for a single line of poetry\n",
    "\n",
    "- Need to adjust regular expressions to recognize all types of question markes\n",
    "    - don't be afraid to make regular expressions complex - its what they are for\n",
    "\n",
    "- Need to Check why parse_by_lines somtimes keeping \\n newline characters\n",
    "    - check regex\n",
    "    - generated poem somtimes has more than expected lines"
   ]
  }
 ],
 "metadata": {
  "kernelspec": {
   "display_name": "base",
   "language": "python",
   "name": "python3"
  },
  "language_info": {
   "codemirror_mode": {
    "name": "ipython",
    "version": 3
   },
   "file_extension": ".py",
   "mimetype": "text/x-python",
   "name": "python",
   "nbconvert_exporter": "python",
   "pygments_lexer": "ipython3",
   "version": "3.11.7"
  }
 },
 "nbformat": 4,
 "nbformat_minor": 2
}

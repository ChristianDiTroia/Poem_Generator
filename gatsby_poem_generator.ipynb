{
 "cells": [
  {
   "cell_type": "code",
   "execution_count": 1,
   "metadata": {},
   "outputs": [],
   "source": [
    "from pdf_parser import *"
   ]
  },
  {
   "cell_type": "code",
   "execution_count": 2,
   "metadata": {},
   "outputs": [],
   "source": [
    "pdf_path = \"./the-great-gatsby.pdf\"\n",
    "gatsby_text = parse_pdf_text(pdf_path=pdf_path, start_page=3)"
   ]
  },
  {
   "cell_type": "code",
   "execution_count": 3,
   "metadata": {},
   "outputs": [],
   "source": [
    "gatsby_lines = parse_by_line(gatsby_text)\n",
    "gatsby_sentences = parse_by_sentence(gatsby_text)"
   ]
  },
  {
   "cell_type": "code",
   "execution_count": 4,
   "metadata": {},
   "outputs": [],
   "source": [
    "import random\n",
    "random.seed(42)"
   ]
  },
  {
   "cell_type": "code",
   "execution_count": 15,
   "metadata": {},
   "outputs": [
    {
     "name": "stdout",
     "output_type": "stream",
     "text": [
      "‘Where\n",
      "I’m having a marvelous——‘\n",
      "‘You must see the faces of many people you’ve heard\n",
      "about\n",
      "It wasn’t a bit funny\n",
      "‘Haven’t you ever seen it before\n",
      "\n",
      "They were gone, without a word, snapped out, made ac-\n",
      "cidental, isolated, like ghosts even from our pity\n",
      "\n",
      "‘He won’t touch her,’ I said\n",
      " demanded Jordan crossly\n",
      "I wondered if the fact that he was not drinking helped\n",
      "to set him off from his guests, for it seemed to me that he\n",
      "grew more correct as the fraternal hilarity increased\n"
     ]
    }
   ],
   "source": [
    "poem_lines = 8\n",
    "sentence_based_poem = \"\"\n",
    "for line in range(poem_lines):\n",
    "    sentence_based_poem += gatsby_sentences[random.randrange(0, len(gatsby_sentences))]\n",
    "    if line < poem_lines - 1:\n",
    "        sentence_based_poem += \"\\n\"\n",
    "print(sentence_based_poem)"
   ]
  },
  {
   "cell_type": "code",
   "execution_count": 14,
   "metadata": {},
   "outputs": [
    {
     "name": "stdout",
     "output_type": "stream",
     "text": [
      "‘There’s sport for you,’ said Tom, nodding. ‘I’d like to be\n",
      "‘They’re some people Wolfshiem wanted to do some-thing for. They’re all brothers and sisters. They used to run\n",
      "‘I was able to do the commissioner a favor once, and he\n",
      "laugh followed by Daisy’s voice on a clear artificial note.\n",
      "‘We’re getting off!’ he insisted. ‘I want you to meet my\n",
      "swaying for a moment before he perceived the man in the\n",
      "where death no longer has the quality of ghastly surprise,\n",
      "The modesty of the demand shook me. He had waited\n"
     ]
    }
   ],
   "source": [
    "poem_lines = 8\n",
    "line_based_poem = \"\"\n",
    "for line in range(poem_lines):\n",
    "    line_based_poem += gatsby_lines[random.randrange(0, len(gatsby_lines))]\n",
    "    if line < poem_lines - 1:\n",
    "        line_based_poem += \"\\n\"\n",
    "print(line_based_poem)"
   ]
  },
  {
   "cell_type": "markdown",
   "metadata": {},
   "source": [
    "# Notes / TODO\n",
    "\n",
    "- Add a retain punctuation mode since sentence parsing deletes [.?!] and newline parsing deletes quotations\n",
    "- turn pdf_parser file into a class that holds the parsed data and reuses parsed text as much as possible to minimize compute time\n",
    "- make separate class for getting different combinations of lines/sentences, and displaying, saving, and replicating (remember random seed) the results."
   ]
  }
 ],
 "metadata": {
  "kernelspec": {
   "display_name": "base",
   "language": "python",
   "name": "python3"
  },
  "language_info": {
   "codemirror_mode": {
    "name": "ipython",
    "version": 3
   },
   "file_extension": ".py",
   "mimetype": "text/x-python",
   "name": "python",
   "nbconvert_exporter": "python",
   "pygments_lexer": "ipython3",
   "version": "3.11.7"
  }
 },
 "nbformat": 4,
 "nbformat_minor": 2
}

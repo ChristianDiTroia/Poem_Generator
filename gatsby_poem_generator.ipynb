{
 "cells": [
  {
   "cell_type": "code",
   "execution_count": 1,
   "metadata": {},
   "outputs": [],
   "source": [
    "from pdf_parser import *"
   ]
  },
  {
   "cell_type": "code",
   "execution_count": 2,
   "metadata": {},
   "outputs": [],
   "source": [
    "pdf_path = \"./the-great-gatsby.pdf\"\n",
    "gatsby_text = parse_pdf_text(pdf_path=pdf_path, start_page=3)"
   ]
  },
  {
   "cell_type": "code",
   "execution_count": 3,
   "metadata": {},
   "outputs": [
    {
     "name": "stdout",
     "output_type": "stream",
     "text": [
      "-\n",
      "ly.\n",
      "\n",
      "-\n",
      "ca. \n",
      "-\n",
      "max. \n",
      "-\n",
      "cally. \n",
      "-\n",
      "lence.\n",
      "\n",
      "-\n",
      "rine. \n",
      "-\n",
      "ried.\n",
      "\n",
      "-\n",
      "ee. \n",
      "-\n",
      "scene.\n",
      "\n",
      "-\n",
      "morrow. \n",
      "-\n",
      "ed. \n",
      "-\n",
      "certain. \n",
      "-\n",
      "ing.\n",
      "\n",
      "-\n",
      "tinued. \n",
      "-\n",
      "doors.\n",
      "\n",
      "-\n",
      "ter. \n",
      "-\n",
      "teen. \n",
      "-\n",
      "stand.\n",
      "\n",
      "-\n",
      "standingly. \n",
      "-\n",
      "hensible. \n",
      "-\n",
      "cisively.\n",
      "\n",
      "-\n",
      "fairs.\n",
      "\n",
      "-\n",
      "sible. \n",
      "-\n",
      "mer. \n",
      "-\n",
      "ey. \n",
      "-\n",
      "der.\n",
      "\n",
      "-\n",
      "ing. \n",
      "-\n",
      "ful. \n",
      "-\n",
      "ply.\n",
      "\n",
      "-\n",
      "light.\n",
      "\n",
      "-\n",
      "ence. \n",
      "-\n",
      "ly.\n",
      "\n",
      "-\n",
      "barrassment. \n",
      "-\n",
      "gether.\n",
      "\n",
      "-\n",
      "tinent. \n",
      "-\n",
      "fore.\n",
      "\n",
      "-\n",
      "membering. \n",
      "-\n",
      "ly.\n",
      "\n",
      "-\n",
      "cally. \n",
      "-\n",
      "sy. \n",
      "-\n",
      "ducer.\n",
      "\n",
      "-\n",
      "et.\n",
      "\n",
      "-\n",
      "sion.\n",
      "\n",
      "-\n",
      "ers.\n",
      "\n",
      "-\n",
      "piece. \n",
      "-\n",
      "noyance. \n",
      "-\n",
      "ble.\n",
      "\n",
      "-\n",
      "agely. \n",
      "-\n",
      "ued. \n",
      "-\n",
      "ture. \n",
      "-\n",
      "patiently. \n",
      "-\n",
      "marked.\n",
      "\n",
      "-\n",
      "isville. \n",
      "-\n",
      "tent.\n",
      "\n",
      "-\n",
      "tions.\n",
      "\n",
      "-\n",
      "tance.\n",
      "\n",
      "-\n",
      "ic. \n",
      "-\n",
      "light.\n",
      "\n",
      "-\n",
      "ficer.\n",
      "\n",
      "-\n",
      "es.\n",
      "\n",
      "-\n",
      "ing.\n",
      "\n",
      "-\n",
      "arettes. \n",
      "-\n",
      "ing. \n",
      "-\n",
      "tion. \n",
      "-\n",
      "denly. \n"
     ]
    }
   ],
   "source": [
    "gatsby_lines = parse_by_line(gatsby_text)\n",
    "gatsby_sentences = parse_by_sentence(gatsby_text)"
   ]
  },
  {
   "cell_type": "code",
   "execution_count": 22,
   "metadata": {},
   "outputs": [],
   "source": [
    "import random\n",
    "random.seed(42)"
   ]
  },
  {
   "cell_type": "code",
   "execution_count": 5,
   "metadata": {},
   "outputs": [
    {
     "name": "stdout",
     "output_type": "stream",
     "text": [
      "Tom stopped beside the\n",
      "porch and looked up at the second floor where two win-\n",
      "dows bloomed with light among the vines\n",
      "I am still\n",
      "a little afraid of missing something if I forget that, as my fa-\n",
      "ther snobbishly suggested, and I snobbishly repeat a sense\n",
      "of the fundamental decencies is parcelled out unequally at\n",
      "birth\n",
      "There is always a halt there\n",
      "of at least a minute and it was because of this that I first met\n",
      "Tom Buchanan’s mistress\n",
      "He’s singing away——’ her voice sang\n",
      "‘——It’s romantic, isn’t it, Tom?’\n",
      "‘Very romantic,’ he said, and then miserably to me: ‘If\n",
      "it’s light enough after dinner I want to take you down to the\n",
      "stables.’\n",
      "The telephone rang inside, startlingly, and as Daisy shook\n",
      "her head decisively at Tom the subject of the stables, in fact\n",
      "all subjects, vanished into air\n",
      "I was within and without, si-\n",
      "multaneously enchanted and repelled by the inexhaustible\n",
      "variety of life\n",
      "Tomorrow!’ Then\n",
      "she added irrelevantly, ‘You ought to see the baby.’\n",
      "‘I’d like to.’\n",
      "‘She’s asleep\n",
      "‘I\n",
      "almost married a little kyke who’d been after me for years\n",
      "‘Anyhow he gives large parties,’ said Jordan, changing\n",
      "the subject with an urbane distaste for the concrete\n"
     ]
    }
   ],
   "source": [
    "poem_sentences = 8\n",
    "sentence_based_poem = \"\"\n",
    "for line in range(poem_sentences):\n",
    "    sentence_based_poem += gatsby_sentences[random.randrange(0, len(gatsby_sentences))]\n",
    "    if line < poem_sentences - 1:\n",
    "        sentence_based_poem += \"\\n\"\n",
    "print(sentence_based_poem)"
   ]
  },
  {
   "cell_type": "code",
   "execution_count": 23,
   "metadata": {},
   "outputs": [
    {
     "name": "stdout",
     "output_type": "stream",
     "text": [
      "looking at the advertisement over his head. When we came\n",
      "leaned slightly forward with a conscientious expression—\n",
      "leaves made a fabric against the rain. Once more it was\n",
      "‘Gatsby bought that house so that Daisy would be just\n",
      "knew I had discovered a man of fine breeding after I talked\n",
      "‘About that. As a matter of fact you needn’t bother to as-\n",
      "certain.\n",
      "stand them? If I was them I’d get a divorce and get married\n",
      "‘Stella!’ from the other side of the door.\n"
     ]
    }
   ],
   "source": [
    "poem_lines = 8\n",
    "line_based_poem = \"\"\n",
    "for line in range(poem_lines):\n",
    "    line_based_poem += gatsby_lines[random.randrange(0, len(gatsby_lines))]\n",
    "    if line < poem_lines - 1:\n",
    "        line_based_poem += \"\\n\"\n",
    "print(line_based_poem)"
   ]
  },
  {
   "cell_type": "code",
   "execution_count": null,
   "metadata": {},
   "outputs": [
    {
     "name": "stdout",
     "output_type": "stream",
     "text": [
      "['Chapter 1\\nIn my younger and more vulnerable years my father gave\\nme some advice that I’ve been turning over in my mind\\never since', '‘Whenever you feel like criticizing any one,’ he told me,\\n‘just remember that all the people in this world haven’t had\\nthe advantages that you’ve had.’\\nHe didn’t say any more but we’ve always been unusually\\ncommunicative in a reserved way, and I understood that he\\nmeant a great deal more than that', 'In consequence I’m in-\\nclined to reserve all judgments, a habit that has opened up\\nmany curious natures to me and also made me the victim\\nof not a few veteran bores', 'The abnormal mind is quick to\\ndetect and attach itself to this quality when it appears in a\\nnormal person, and so it came about that in college I was\\nunjustly accused of being a politician, because I was privy\\nto the secret griefs of wild, unknown men', 'Most of the con-\\nfidences were unsought—frequently I have feigned sleep,\\npreoccupation, or a hostile levity when I realized by some\\nunmistakable sign that an intimate revelation was quiver-\\ning on the horizon—for the intimate revelations of young\\nmen or at least the terms in which they express them are\\nusually plagiaristic and marred by obvious suppressions', 'Reserving judgments is a matter of infinite hope', 'I am still\\na little afraid of missing something if I forget that, as my fa-\\nther snobbishly suggested, and I snobbishly repeat a sense\\nof the fundamental decencies is parcelled out unequally at\\nbirth', 'And, after boasting this way of my tolerance, I come to\\nthe admission that it has a limit', 'Conduct may be founded\\non the hard rock or the wet marshes but after a certain point\\nI don’t care what it’s founded on', 'When I came back from\\nthe East last autumn I felt that I wanted the world to be in\\nuniform and at a sort of moral attention forever; I want-\\ned no more riotous excursions with privileged glimpses\\ninto the human heart']\n"
     ]
    }
   ],
   "source": [
    "print(gatsby_sentences[:10])"
   ]
  },
  {
   "cell_type": "markdown",
   "metadata": {},
   "source": [
    "# Notes / TODO\n",
    "\n",
    "- Need to adjust regular expressions to recognize all types of question markes\n",
    "    - don't be afraid to make regular expressions complex - its what they are for\n",
    "\n",
    "- Need to Check why parse_by_lines somtimes keeping \\n newline characters\n",
    "    - check regex\n",
    "    - generated poem somtimes has more than expected lines"
   ]
  }
 ],
 "metadata": {
  "kernelspec": {
   "display_name": "Python 3",
   "language": "python",
   "name": "python3"
  },
  "language_info": {
   "codemirror_mode": {
    "name": "ipython",
    "version": 3
   },
   "file_extension": ".py",
   "mimetype": "text/x-python",
   "name": "python",
   "nbconvert_exporter": "python",
   "pygments_lexer": "ipython3",
   "version": "3.10.5"
  }
 },
 "nbformat": 4,
 "nbformat_minor": 2
}

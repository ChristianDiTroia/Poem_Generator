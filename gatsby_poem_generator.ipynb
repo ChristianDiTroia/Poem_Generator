{
 "cells": [
  {
   "cell_type": "code",
   "execution_count": 8,
   "metadata": {},
   "outputs": [],
   "source": [
    "from pdf_parser import *"
   ]
  },
  {
   "cell_type": "code",
   "execution_count": 9,
   "metadata": {},
   "outputs": [],
   "source": [
    "pdf_path = \"./the-great-gatsby.pdf\"\n",
    "gatsby_text = parse_pdf_text(pdf_path=pdf_path, start_page=3)"
   ]
  },
  {
   "cell_type": "code",
   "execution_count": 10,
   "metadata": {},
   "outputs": [],
   "source": [
    "gatsby_lines = parse_by_line(gatsby_text)\n",
    "gatsby_sentences = parse_by_sentence(gatsby_text)"
   ]
  },
  {
   "cell_type": "code",
   "execution_count": 12,
   "metadata": {},
   "outputs": [],
   "source": [
    "import re\n",
    "import random"
   ]
  },
  {
   "cell_type": "code",
   "execution_count": null,
   "metadata": {},
   "outputs": [
    {
     "name": "stdout",
     "output_type": "stream",
     "text": [
      "‘Where?’ ‘Anywhere.’ ‘Keep your hands off the lever,’ snapped the elevator boy\n",
      "You see, I usually find my- self among strangers because I drift here and there trying to forget the sad thing that happened to me.’ He hesitated\n",
      "‘Five years next November.’ The automatic quality of Gatsby’s answer set us all back at least another minute\n",
      "Even when the East excited me most, even when I was most keenly aware of its superiority to the bored, sprawling, swollen towns beyond the Ohio, with their interminable inquisitions which spared only the children and the very old—even then it had always for me a quality of distor- tion\n",
      "I saw right away he was a fine appearing, gentlemanly young man, and when he told me he was an Oggsford I knew I could use him good\n",
      "Do you see?’ There was something pathetic in his concentration as if his complacency, more acute than of old, was not enough to him any more\n",
      "‘Come here QUICK!’ cried Daisy at the window\n",
      "When I was a young man it was different—if a friend of mine died, no matter how, I stuck with them to the end\n"
     ]
    }
   ],
   "source": [
    "newline_pattern = re.compile(r\"(?<!-)\\n\")\n",
    "hyphen_newline_pattern = re.compile(r\"\\n\")\n",
    "\n",
    "poem_lines = 8\n",
    "sentence_based_poem = \"\"\n",
    "for line in range(poem_lines):\n",
    "    sentence_based_poem += gatsby_sentences[random.randrange(0, len(gatsby_sentences))]\n",
    "    # sentence = re.sub(newline_pattern, \" \", sentence)\n",
    "    # sentence = re.sub(hyphen_newline_pattern, \"\", sentence)\n",
    "    # sentence_based_poem += sentence\n",
    "    if line < poem_lines - 1:\n",
    "        sentence_based_poem += \"\\n\"\n",
    "print(sentence_based_poem)"
   ]
  },
  {
   "cell_type": "code",
   "execution_count": 17,
   "metadata": {},
   "outputs": [
    {
     "name": "stdout",
     "output_type": "stream",
     "text": [
      "coming up the drive. It stopped. Daisy’s face, tipped side-\n",
      "ways beneath a three-cornered lavender hat, looked out at\n",
      "Wilson’s body that afternoon, and the adventitious author-\n",
      "ity of his voice set the key for the newspaper reports next\n",
      "‘How did he happen to do that?’ I asked after a minute.\n",
      "‘You told us.’\n",
      "presumably engaged to a man from New Orleans. In June\n",
      "gone home she came into my room and woke me up, and\n",
      "‘What grass?’ he inquired blankly. ‘Oh, the grass in the\n",
      "the autumn-leaf yellow of her hair, glinted along the paper\n"
     ]
    }
   ],
   "source": [
    "poem_lines = 8\n",
    "line_based_poem = \"\"\n",
    "for line in range(poem_lines):\n",
    "    line_based_poem += gatsby_lines[random.randrange(0, len(gatsby_lines))]\n",
    "    if line < poem_lines - 1:\n",
    "        line_based_poem += \"\\n\"\n",
    "print(line_based_poem)"
   ]
  },
  {
   "cell_type": "markdown",
   "metadata": {},
   "source": [
    "# Notes\n",
    "\n",
    "- Should parsed sentences keep their newline chars?\n"
   ]
  }
 ],
 "metadata": {
  "kernelspec": {
   "display_name": "base",
   "language": "python",
   "name": "python3"
  },
  "language_info": {
   "codemirror_mode": {
    "name": "ipython",
    "version": 3
   },
   "file_extension": ".py",
   "mimetype": "text/x-python",
   "name": "python",
   "nbconvert_exporter": "python",
   "pygments_lexer": "ipython3",
   "version": "3.11.7"
  }
 },
 "nbformat": 4,
 "nbformat_minor": 2
}

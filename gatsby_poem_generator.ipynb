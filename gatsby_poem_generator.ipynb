{
 "cells": [
  {
   "cell_type": "code",
   "execution_count": 1,
   "metadata": {},
   "outputs": [],
   "source": [
    "from pdf_parser import *"
   ]
  },
  {
   "cell_type": "code",
   "execution_count": 2,
   "metadata": {},
   "outputs": [],
   "source": [
    "pdf_path = \"./the-great-gatsby.pdf\"\n",
    "gatsby_text = parse_pdf_text(pdf_path=pdf_path, start_page=3)"
   ]
  },
  {
   "cell_type": "code",
   "execution_count": 3,
   "metadata": {},
   "outputs": [],
   "source": [
    "gatsby_lines = parse_by_line(gatsby_text)\n",
    "gatsby_sentences = parse_by_sentence(gatsby_text)"
   ]
  },
  {
   "cell_type": "code",
   "execution_count": 4,
   "metadata": {},
   "outputs": [],
   "source": [
    "import random\n",
    "random.seed(42)"
   ]
  },
  {
   "cell_type": "code",
   "execution_count": 9,
   "metadata": {},
   "outputs": [
    {
     "name": "stdout",
     "output_type": "stream",
     "text": [
      " again in his groaning voice\n",
      "They’re nice to have—a\n",
      "dog\n",
      "\n",
      "I was feeling a little sick and I wanted to be alone\n",
      "Didn’t you get mar-\n",
      "ried in a church\n",
      "‘I ought to have left it in the\n",
      "shade\n",
      "The eyes of Doctor T. J.\n",
      "Eckleburg are blue and gigantic—their retinas are one yard\n",
      "high\n",
      "\n",
      "‘Well, he said he knew you\n",
      "In the music room Gatsby turned on a solitary lamp\n",
      "beside the piano\n"
     ]
    }
   ],
   "source": [
    "poem_lines = 8\n",
    "sentence_based_poem = \"\"\n",
    "for line in range(poem_lines):\n",
    "    sentence_based_poem += gatsby_sentences[random.randrange(0, len(gatsby_sentences))]\n",
    "    if line < poem_lines - 1:\n",
    "        sentence_based_poem += \"\\n\"\n",
    "print(sentence_based_poem)"
   ]
  },
  {
   "cell_type": "code",
   "execution_count": 11,
   "metadata": {},
   "outputs": [
    {
     "name": "stdout",
     "output_type": "stream",
     "text": [
      "Silence for a moment. Then\n",
      "At least a dozen men, some of them little better off than\n",
      "suddenly as though I were talking to a child. Then he went\n",
      "right thing after all.\n",
      "looks like me. She’s got my hair and shape of the face.’\n",
      "long that he became known as ‘the boarder’—I doubt if\n",
      "Instinct made him step on the accelerator with the double\n",
      "about the pool. Someone with a positive manner, perhaps\n"
     ]
    }
   ],
   "source": [
    "poem_lines = 8\n",
    "line_based_poem = \"\"\n",
    "for line in range(poem_lines):\n",
    "    line_based_poem += gatsby_lines[random.randrange(0, len(gatsby_lines))]\n",
    "    if line < poem_lines - 1:\n",
    "        line_based_poem += \"\\n\"\n",
    "print(line_based_poem)"
   ]
  },
  {
   "cell_type": "markdown",
   "metadata": {},
   "source": [
    "# Notes / TODO\n",
    "\n",
    "- add some comments if needed\n",
    "- Add a retain punctuation mode since sentence parsing deletes [.?!] and newline parsing deletes quotations\n",
    "- turn pdf_parser file into a class that holds the parsed data and reuses parsed text as much as possible to minimize compute time\n",
    "- make separate class for getting different combinations of lines/sentences, and displaying, saving, and replicating (remember random seed) the results."
   ]
  },
  {
   "cell_type": "code",
   "execution_count": null,
   "metadata": {},
   "outputs": [],
   "source": []
  }
 ],
 "metadata": {
  "kernelspec": {
   "display_name": "base",
   "language": "python",
   "name": "python3"
  },
  "language_info": {
   "codemirror_mode": {
    "name": "ipython",
    "version": 3
   },
   "file_extension": ".py",
   "mimetype": "text/x-python",
   "name": "python",
   "nbconvert_exporter": "python",
   "pygments_lexer": "ipython3",
   "version": "3.11.7"
  }
 },
 "nbformat": 4,
 "nbformat_minor": 2
}

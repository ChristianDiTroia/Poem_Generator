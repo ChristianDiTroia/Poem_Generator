{
 "cells": [
  {
   "cell_type": "code",
   "execution_count": 1,
   "metadata": {},
   "outputs": [],
   "source": [
    "from pdf_parser import *"
   ]
  },
  {
   "cell_type": "code",
   "execution_count": 2,
   "metadata": {},
   "outputs": [],
   "source": [
    "pdf_path = \"./the-great-gatsby.pdf\"\n",
    "gatsby_text = parse_pdf_text(pdf_path=pdf_path, start_page=3)"
   ]
  },
  {
   "cell_type": "code",
   "execution_count": 3,
   "metadata": {},
   "outputs": [],
   "source": [
    "gatsby_lines = parse_by_line(gatsby_text)\n",
    "gatsby_sentences = parse_by_sentence(gatsby_text)"
   ]
  },
  {
   "cell_type": "code",
   "execution_count": 4,
   "metadata": {},
   "outputs": [],
   "source": [
    "import random\n",
    "random.seed(42)"
   ]
  },
  {
   "cell_type": "code",
   "execution_count": 5,
   "metadata": {},
   "outputs": [
    {
     "name": "stdout",
     "output_type": "stream",
     "text": [
      "He won’t annoy you\n",
      "\n",
      "‘Come on,’ she urged\n",
      " she cried ecstatically\n",
      "\n",
      "The effort of answering broke the rhythm of his rocking—\n",
      "for a moment he was silent\n",
      "He hurried the phrase ‘educated\n",
      "at Oxford,’ or swallowed it or choked on it as though it had\n",
      "bothered him before\n",
      "‘It came off,’ some one explained\n",
      "The large room was full of people\n",
      "\n",
      "‘Doesn’t she like Wilson either\n"
     ]
    }
   ],
   "source": [
    "poem_lines = 8\n",
    "sentence_based_poem = \"\"\n",
    "for line in range(poem_lines):\n",
    "    sentence_based_poem += gatsby_sentences[random.randrange(0, len(gatsby_sentences))]\n",
    "    if line < poem_lines - 1:\n",
    "        sentence_based_poem += \"\\n\"\n",
    "print(sentence_based_poem)"
   ]
  },
  {
   "cell_type": "code",
   "execution_count": 6,
   "metadata": {},
   "outputs": [
    {
     "name": "stdout",
     "output_type": "stream",
     "text": [
      "‘Neither of them can stand the person they’re married to.’\n",
      "‘Start him! I made him.’\n",
      "The apartment was on the top floor—a small living\n",
      "‘As if it mattered to you,’ she said.\n",
      "you to New York all afternoon.’\n",
      "‘Who with?’\n",
      "moment and as she expanded the room grew smaller around\n",
      "began to eat with ferocious delicacy. His eyes, meanwhile,\n"
     ]
    }
   ],
   "source": [
    "poem_lines = 8\n",
    "line_based_poem = \"\"\n",
    "for line in range(poem_lines):\n",
    "    line_based_poem += gatsby_lines[random.randrange(0, len(gatsby_lines))]\n",
    "    if line < poem_lines - 1:\n",
    "        line_based_poem += \"\\n\"\n",
    "print(line_based_poem)"
   ]
  },
  {
   "cell_type": "markdown",
   "metadata": {},
   "source": [
    "# Notes / TODO\n",
    "\n",
    "- ### Priority !!! figure out which parse_by_line function to use\n",
    "    - I think the idea in the second function is more correct semantically, but the implementation may not be very good - verify this and if it works well then keep the second function\n",
    "- add some comments if needed\n",
    "- Add a retain punctuation mode since sentence parsing deletes [.?!] and newline parsing deletes quotations\n",
    "- turn pdf_parser file into a class that holds the parsed data and reuses parsed text as much as possible to minimize compute time\n",
    "- make separate class for getting different combinations of lines/sentences, and displaying, saving, and replicating (remember random seed) the results."
   ]
  }
 ],
 "metadata": {
  "kernelspec": {
   "display_name": "base",
   "language": "python",
   "name": "python3"
  },
  "language_info": {
   "codemirror_mode": {
    "name": "ipython",
    "version": 3
   },
   "file_extension": ".py",
   "mimetype": "text/x-python",
   "name": "python",
   "nbconvert_exporter": "python",
   "pygments_lexer": "ipython3",
   "version": "3.11.7"
  }
 },
 "nbformat": 4,
 "nbformat_minor": 2
}
